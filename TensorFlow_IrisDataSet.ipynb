{
 "cells": [
  {
   "cell_type": "markdown",
   "metadata": {},
   "source": [
    "# Using Iris Data Set with TensorFlow / Keras"
   ]
  },
  {
   "cell_type": "markdown",
   "metadata": {},
   "source": [
    "Iris is perhaps the best known dataset which originated from a 1936 research paper by a British statistician and biologist Ronald Fisher. The dataset is often used for testing out machine learning algorithms and visualizations e.g. Scatter Plot. The data set contains 150 rows of data, each row contains the following data for each flower sample: sepal length, sepal width, petal length, petal width in centimeters., and the 3 types of flower species.\n",
    "#### References:\n",
    "- UCI Machine Learning Repository, https://archive.ics.uci.edu/ml/datasets/iris\n",
    "- Wikipedia, Iris flower Data Set, https://en.wikipedia.org/wiki/Iris_flower_data_set\n",
    "- TensorFlow, Iris tutorial, https://www.tensorflow.org/get_started/estimator"
   ]
  },
  {
   "cell_type": "markdown",
   "metadata": {},
   "source": [
    "We will be using [Keras](https://keras.io/) which is a high level neural networks API running on top of [TensorFlow](https://www.tensorflow.org/) for this problem sheet."
   ]
  },
  {
   "cell_type": "markdown",
   "metadata": {},
   "source": [
    "## 1. Use TensorFlow to create a model\n",
    "Create a model to predict the species of Iris from a flower’s sepal width, sepal length, petal width, and petal length."
   ]
  },
  {
   "cell_type": "code",
   "execution_count": 7,
   "metadata": {},
   "outputs": [],
   "source": [
    "#importing python libraries\n",
    "import numpy as np\n",
    "import csv\n",
    "import keras as kr\n",
    "\n",
    "# Adapted from: https://github.com/salmanahmad4u/keras-iris/blob/master/iris_nn.py\n",
    "# &\n",
    "# Adapted from: https://github.com/emerging-technologies/keras-iris\n",
    "\n",
    "#Load dataset from csv\n",
    "# Open and read through file\n",
    "iris = list(csv.reader(open('IRIS.csv')))[1:] # [1:] = ignore the first row and read the rest of the file\n",
    "\n",
    "# We need to separate the data into 2 arrays, inputs and outputs.\n",
    "\n",
    "# inputs contains sepal length, sepal width, petal length, petal width converted as floats\n",
    "inputs = np.array(iris)[:,:4].astype(np.float) # [:,:4] = give us all the rows and the first 4 columns in rows\n",
    "\n",
    "# outputs contains the 3 species as strings: setosa, versicolor and virginica\n",
    "outputs = np.array(iris)[:,4] # [:,4] selects the last column (4th column) of all rows which is the species\n",
    "\n",
    "# Converting the output strings to integers.\n",
    "# np.unique returns the sorted unique elements of an array.\n",
    "# return_inverse=True means also return the indices of the unique array.\n",
    "outputs_vals, outputs_ints = np.unique(outputs, return_inverse=True)\n",
    "# output_vals contains the 3 unique string values\n",
    "# output_ints contains the indices\n",
    "\n",
    "# The 1st string corresponds with the 1st interger in the array\n",
    "\n",
    "# species are represented as integers, with 0 denoting setosa, 1 denoting versicolor and 2 denoting virginica\n",
    "\n",
    "# Encoding the integers as binary categorical variables.\n",
    "# basically creating a binary matrix \n",
    "# E.g. if output_ints is 0 then its encoded into 1,0,0 or if 1 then its 0,1,0 or if 2 then its 0,0,1\n",
    "outputs_cats = kr.utils.to_categorical(outputs_ints)\n",
    "# This means that if the output is:\n",
    "# (1,0,0) = setosa\n",
    "# (0,1,0) = versicolor\n",
    "# (0,0,1) = virginica\n",
    "\n",
    "\n",
    "\n",
    "# A model is understood as a sequence or a graph of standalone, \n",
    "# ..fully-configurable modules that can be plugged together with as little restrictions as possible.\n",
    "# For more: https://keras.io/\n",
    "# Creating model and a neural network\n",
    "# model is used to organise layers\n",
    "model = kr.models.Sequential() # using sequential model which is a linear stack of layers\n",
    "\n",
    "# stacking 4 layers. \n",
    "# Add an initial layer with 4 input nodes and a hidden layer with 16 nodes/neurons.\n",
    "# Applying the sigmoid activation function to the layer. Range 0 to 1.\n",
    "model.add(kr.layers.Dense(16, input_shape=(4,), activation='sigmoid' ))\n",
    "\n",
    "\n",
    "# Adding another layer, connected to the layer with 16 nodes/neurons, containing 3 output nodes \n",
    "# Using the softmax activation function here. Softmax calculates the probabilities distribution. Range 0 to 1.\n",
    "model.add(kr.layers.Dense(3, activation='softmax'))\n"
   ]
  },
  {
   "cell_type": "markdown",
   "metadata": {
    "collapsed": true
   },
   "source": [
    "## 2. Split the data into training and testing\n",
    "Split the data set into a training set and a testing set."
   ]
  },
  {
   "cell_type": "code",
   "execution_count": 8,
   "metadata": {
    "collapsed": true
   },
   "outputs": [],
   "source": [
    "# Split the input and output data sets into training and test subsets\n",
    "inds = np.random.permutation(len(inputs)) # Shuffling the array.. randomly change order of the indicies\n",
    "\n",
    "#Split the array into 2. first batch of indicies go into train and 2nd batch go into test\n",
    "train_inds, test_inds = np.array_split(inds, 2)\n",
    "\n",
    "# Organising the data into training and testing groups.\n",
    "# inputs_train takes in the shuffled train_inds\n",
    "# outputs_train takes in the shuffled train_inds in the encoded binary matrix array\n",
    "inputs_train, outputs_train = inputs[train_inds], outputs_cats[train_inds]\n",
    "\n",
    "# inputs_test takes in the shuffled test_inds\n",
    "# outputs_test takes in the shuffled test_inds in the encoded binary matrix array\n",
    "inputs_test,  outputs_test  = inputs[test_inds],  outputs_cats[test_inds]"
   ]
  },
  {
   "cell_type": "markdown",
   "metadata": {},
   "source": [
    "## 3. Train the model\n",
    "Use the testing set to train your model."
   ]
  },
  {
   "cell_type": "code",
   "execution_count": 9,
   "metadata": {},
   "outputs": [
    {
     "name": "stdout",
     "output_type": "stream",
     "text": [
      "Epoch 1/100\n",
      "75/75 [==============================] - 0s 5ms/step - loss: 1.3813 - acc: 0.2667\n",
      "Epoch 2/100\n",
      "75/75 [==============================] - 0s 1ms/step - loss: 1.1838 - acc: 0.3067\n",
      "Epoch 3/100\n",
      "75/75 [==============================] - 0s 1ms/step - loss: 1.0728 - acc: 0.3600\n",
      "Epoch 4/100\n",
      "75/75 [==============================] - 0s 1ms/step - loss: 1.0075 - acc: 0.6133\n",
      "Epoch 5/100\n",
      "75/75 [==============================] - 0s 2ms/step - loss: 0.9680 - acc: 0.6667\n",
      "Epoch 6/100\n",
      "75/75 [==============================] - 0s 2ms/step - loss: 0.9205 - acc: 0.6667\n",
      "Epoch 7/100\n",
      "75/75 [==============================] - 0s 2ms/step - loss: 0.8754 - acc: 0.6400\n",
      "Epoch 8/100\n",
      "75/75 [==============================] - 0s 1ms/step - loss: 0.8328 - acc: 0.7733\n",
      "Epoch 9/100\n",
      "75/75 [==============================] - 0s 1ms/step - loss: 0.7873 - acc: 0.8133\n",
      "Epoch 10/100\n",
      "75/75 [==============================] - 0s 1ms/step - loss: 0.7497 - acc: 0.7867\n",
      "Epoch 11/100\n",
      "75/75 [==============================] - 0s 1ms/step - loss: 0.7098 - acc: 0.8533\n",
      "Epoch 12/100\n",
      "75/75 [==============================] - 0s 1ms/step - loss: 0.6731 - acc: 0.8800\n",
      "Epoch 13/100\n",
      "75/75 [==============================] - 0s 1ms/step - loss: 0.6401 - acc: 0.9067\n",
      "Epoch 14/100\n",
      "75/75 [==============================] - 0s 1ms/step - loss: 0.6101 - acc: 0.9200\n",
      "Epoch 15/100\n",
      "75/75 [==============================] - 0s 2ms/step - loss: 0.5802 - acc: 0.9467\n",
      "Epoch 16/100\n",
      "75/75 [==============================] - 0s 2ms/step - loss: 0.5554 - acc: 0.9467\n",
      "Epoch 17/100\n",
      "75/75 [==============================] - 0s 2ms/step - loss: 0.5397 - acc: 0.9067\n",
      "Epoch 18/100\n",
      "75/75 [==============================] - 0s 1ms/step - loss: 0.5135 - acc: 0.9733\n",
      "Epoch 19/100\n",
      "75/75 [==============================] - 0s 2ms/step - loss: 0.4986 - acc: 0.9600\n",
      "Epoch 20/100\n",
      "75/75 [==============================] - 0s 2ms/step - loss: 0.4859 - acc: 0.9200\n",
      "Epoch 21/100\n",
      "75/75 [==============================] - 0s 2ms/step - loss: 0.4699 - acc: 0.9600\n",
      "Epoch 22/100\n",
      "75/75 [==============================] - 0s 1ms/step - loss: 0.4593 - acc: 0.9600\n",
      "Epoch 23/100\n",
      "75/75 [==============================] - 0s 1ms/step - loss: 0.4457 - acc: 0.9467\n",
      "Epoch 24/100\n",
      "75/75 [==============================] - 0s 1ms/step - loss: 0.4348 - acc: 0.9600\n",
      "Epoch 25/100\n",
      "75/75 [==============================] - 0s 1ms/step - loss: 0.4267 - acc: 0.9333\n",
      "Epoch 26/100\n",
      "75/75 [==============================] - 0s 1ms/step - loss: 0.4137 - acc: 0.9467\n",
      "Epoch 27/100\n",
      "75/75 [==============================] - 0s 1ms/step - loss: 0.4033 - acc: 0.9467\n",
      "Epoch 28/100\n",
      "75/75 [==============================] - 0s 1ms/step - loss: 0.3964 - acc: 0.9733\n",
      "Epoch 29/100\n",
      "75/75 [==============================] - 0s 1ms/step - loss: 0.3883 - acc: 0.9733\n",
      "Epoch 30/100\n",
      "75/75 [==============================] - 0s 1ms/step - loss: 0.3785 - acc: 0.9600\n",
      "Epoch 31/100\n",
      "75/75 [==============================] - 0s 1ms/step - loss: 0.3731 - acc: 0.9467\n",
      "Epoch 32/100\n",
      "75/75 [==============================] - 0s 1ms/step - loss: 0.3627 - acc: 0.9867\n",
      "Epoch 33/100\n",
      "75/75 [==============================] - 0s 1ms/step - loss: 0.3577 - acc: 0.9867\n",
      "Epoch 34/100\n",
      "75/75 [==============================] - 0s 1ms/step - loss: 0.3496 - acc: 0.9733\n",
      "Epoch 35/100\n",
      "75/75 [==============================] - 0s 1ms/step - loss: 0.3453 - acc: 0.9333\n",
      "Epoch 36/100\n",
      "75/75 [==============================] - 0s 1ms/step - loss: 0.3351 - acc: 1.0000\n",
      "Epoch 37/100\n",
      "75/75 [==============================] - 0s 1ms/step - loss: 0.3277 - acc: 0.9733\n",
      "Epoch 38/100\n",
      "75/75 [==============================] - 0s 1ms/step - loss: 0.3195 - acc: 1.0000\n",
      "Epoch 39/100\n",
      "75/75 [==============================] - 0s 1ms/step - loss: 0.3165 - acc: 0.9733\n",
      "Epoch 40/100\n",
      "75/75 [==============================] - 0s 1ms/step - loss: 0.3103 - acc: 0.9867\n",
      "Epoch 41/100\n",
      "75/75 [==============================] - 0s 1ms/step - loss: 0.3036 - acc: 0.9733\n",
      "Epoch 42/100\n",
      "75/75 [==============================] - 0s 1ms/step - loss: 0.2993 - acc: 0.9867\n",
      "Epoch 43/100\n",
      "75/75 [==============================] - 0s 1ms/step - loss: 0.2897 - acc: 0.9867\n",
      "Epoch 44/100\n",
      "75/75 [==============================] - 0s 1ms/step - loss: 0.2836 - acc: 0.9867\n",
      "Epoch 45/100\n",
      "75/75 [==============================] - 0s 1ms/step - loss: 0.2811 - acc: 0.9467\n",
      "Epoch 46/100\n",
      "75/75 [==============================] - 0s 1ms/step - loss: 0.2742 - acc: 0.9867\n",
      "Epoch 47/100\n",
      "75/75 [==============================] - 0s 1ms/step - loss: 0.2651 - acc: 1.0000\n",
      "Epoch 48/100\n",
      "75/75 [==============================] - 0s 1ms/step - loss: 0.2631 - acc: 1.0000\n",
      "Epoch 49/100\n",
      "75/75 [==============================] - 0s 1ms/step - loss: 0.2547 - acc: 1.0000\n",
      "Epoch 50/100\n",
      "75/75 [==============================] - 0s 1ms/step - loss: 0.2504 - acc: 1.0000\n",
      "Epoch 51/100\n",
      "75/75 [==============================] - 0s 1ms/step - loss: 0.2452 - acc: 0.9867\n",
      "Epoch 52/100\n",
      "75/75 [==============================] - 0s 1ms/step - loss: 0.2422 - acc: 1.0000\n",
      "Epoch 53/100\n",
      "75/75 [==============================] - 0s 1ms/step - loss: 0.2377 - acc: 1.0000\n",
      "Epoch 54/100\n",
      "75/75 [==============================] - 0s 1ms/step - loss: 0.2311 - acc: 0.9867\n",
      "Epoch 55/100\n",
      "75/75 [==============================] - 0s 1ms/step - loss: 0.2290 - acc: 1.0000\n",
      "Epoch 56/100\n",
      "75/75 [==============================] - 0s 1ms/step - loss: 0.2205 - acc: 0.9867\n",
      "Epoch 57/100\n",
      "75/75 [==============================] - 0s 1ms/step - loss: 0.2170 - acc: 0.9733\n",
      "Epoch 58/100\n",
      "75/75 [==============================] - 0s 1ms/step - loss: 0.2106 - acc: 0.9867\n",
      "Epoch 59/100\n",
      "75/75 [==============================] - 0s 1ms/step - loss: 0.2061 - acc: 1.0000\n",
      "Epoch 60/100\n",
      "75/75 [==============================] - 0s 1ms/step - loss: 0.2014 - acc: 0.9867\n",
      "Epoch 61/100\n",
      "75/75 [==============================] - 0s 1ms/step - loss: 0.1980 - acc: 0.9867\n",
      "Epoch 62/100\n",
      "75/75 [==============================] - 0s 1ms/step - loss: 0.1962 - acc: 0.9867\n",
      "Epoch 63/100\n",
      "75/75 [==============================] - 0s 1ms/step - loss: 0.1890 - acc: 1.0000\n",
      "Epoch 64/100\n",
      "75/75 [==============================] - 0s 1ms/step - loss: 0.1866 - acc: 1.0000\n",
      "Epoch 65/100\n",
      "75/75 [==============================] - 0s 1ms/step - loss: 0.1821 - acc: 0.9867\n",
      "Epoch 66/100\n",
      "75/75 [==============================] - 0s 1ms/step - loss: 0.1764 - acc: 0.9867\n",
      "Epoch 67/100\n",
      "75/75 [==============================] - 0s 1ms/step - loss: 0.1736 - acc: 1.0000\n",
      "Epoch 68/100\n",
      "75/75 [==============================] - 0s 1ms/step - loss: 0.1708 - acc: 1.0000\n",
      "Epoch 69/100\n",
      "75/75 [==============================] - 0s 1ms/step - loss: 0.1659 - acc: 0.9867\n",
      "Epoch 70/100\n",
      "75/75 [==============================] - 0s 1ms/step - loss: 0.1613 - acc: 0.9867\n",
      "Epoch 71/100\n",
      "75/75 [==============================] - 0s 1ms/step - loss: 0.1573 - acc: 1.0000\n",
      "Epoch 72/100\n",
      "75/75 [==============================] - 0s 1ms/step - loss: 0.1551 - acc: 0.9867\n",
      "Epoch 73/100\n",
      "75/75 [==============================] - 0s 1ms/step - loss: 0.1550 - acc: 0.9733\n",
      "Epoch 74/100\n",
      "75/75 [==============================] - 0s 2ms/step - loss: 0.1486 - acc: 0.9867\n",
      "Epoch 75/100\n",
      "75/75 [==============================] - 0s 2ms/step - loss: 0.1467 - acc: 0.9867\n",
      "Epoch 76/100\n",
      "75/75 [==============================] - 0s 2ms/step - loss: 0.1456 - acc: 0.9867\n",
      "Epoch 77/100\n",
      "75/75 [==============================] - 0s 1ms/step - loss: 0.1398 - acc: 0.9867\n",
      "Epoch 78/100\n",
      "75/75 [==============================] - 0s 1ms/step - loss: 0.1371 - acc: 1.0000\n",
      "Epoch 79/100\n",
      "75/75 [==============================] - 0s 1ms/step - loss: 0.1367 - acc: 1.0000\n",
      "Epoch 80/100\n",
      "75/75 [==============================] - 0s 1ms/step - loss: 0.1330 - acc: 0.9867\n",
      "Epoch 81/100\n",
      "75/75 [==============================] - 0s 1ms/step - loss: 0.1288 - acc: 1.0000\n",
      "Epoch 82/100\n",
      "75/75 [==============================] - 0s 1ms/step - loss: 0.1281 - acc: 0.9867\n",
      "Epoch 83/100\n",
      "75/75 [==============================] - 0s 1ms/step - loss: 0.1253 - acc: 0.9867\n",
      "Epoch 84/100\n",
      "75/75 [==============================] - 0s 1ms/step - loss: 0.1218 - acc: 0.9867\n",
      "Epoch 85/100\n",
      "75/75 [==============================] - 0s 1ms/step - loss: 0.1190 - acc: 0.9867\n",
      "Epoch 86/100\n",
      "75/75 [==============================] - 0s 1ms/step - loss: 0.1183 - acc: 0.9867\n",
      "Epoch 87/100\n"
     ]
    },
    {
     "name": "stdout",
     "output_type": "stream",
     "text": [
      "75/75 [==============================] - 0s 1ms/step - loss: 0.1148 - acc: 1.0000\n",
      "Epoch 88/100\n",
      "75/75 [==============================] - 0s 1ms/step - loss: 0.1125 - acc: 1.0000\n",
      "Epoch 89/100\n",
      "75/75 [==============================] - 0s 1ms/step - loss: 0.1107 - acc: 1.0000\n",
      "Epoch 90/100\n",
      "75/75 [==============================] - 0s 1ms/step - loss: 0.1080 - acc: 0.9867\n",
      "Epoch 91/100\n",
      "75/75 [==============================] - 0s 1ms/step - loss: 0.1073 - acc: 0.9867\n",
      "Epoch 92/100\n",
      "75/75 [==============================] - 0s 1ms/step - loss: 0.1065 - acc: 1.0000\n",
      "Epoch 93/100\n",
      "75/75 [==============================] - 0s 1ms/step - loss: 0.1024 - acc: 1.0000\n",
      "Epoch 94/100\n",
      "75/75 [==============================] - 0s 1ms/step - loss: 0.1012 - acc: 0.9867\n",
      "Epoch 95/100\n",
      "75/75 [==============================] - 0s 1ms/step - loss: 0.0990 - acc: 0.9867\n",
      "Epoch 96/100\n",
      "75/75 [==============================] - 0s 1ms/step - loss: 0.0979 - acc: 1.0000\n",
      "Epoch 97/100\n",
      "75/75 [==============================] - 0s 1ms/step - loss: 0.0960 - acc: 0.9867\n",
      "Epoch 98/100\n",
      "75/75 [==============================] - 0s 1ms/step - loss: 0.0942 - acc: 1.0000\n",
      "Epoch 99/100\n",
      "75/75 [==============================] - 0s 1ms/step - loss: 0.0912 - acc: 1.0000\n",
      "Epoch 100/100\n",
      "75/75 [==============================] - 0s 1ms/step - loss: 0.0899 - acc: 0.9867\n"
     ]
    },
    {
     "data": {
      "text/plain": [
       "<keras.callbacks.History at 0x16fe4a38eb8>"
      ]
     },
     "execution_count": 9,
     "metadata": {},
     "output_type": "execute_result"
    }
   ],
   "source": [
    "# Configure the model for training.\n",
    "# Uses the adam optimizer and categorical cross entropy as the loss function.\n",
    "# using adam optimizer algorithm for gradient descent\n",
    "# Loss function is the objective that the model will try to minimize\n",
    "# Add in some extra metrics - accuracy being the only one.\n",
    "model.compile(optimizer=\"adam\",\n",
    "              loss=\"categorical_crossentropy\",\n",
    "              metrics=[\"accuracy\"])\n",
    "\n",
    "\n",
    "# Fit the model using our training data.\n",
    "# input_train = training data\n",
    "# output_train = target data\n",
    "# epochs means how many times to train\n",
    "# batch_size is going to take one training example at a time\n",
    "# verbose is used to log the model being trained\n",
    "model.fit(inputs_train, outputs_train, epochs=100, batch_size=1, verbose=1)\n",
    "\n"
   ]
  },
  {
   "cell_type": "markdown",
   "metadata": {},
   "source": [
    "## 4. Test the model\n",
    "Use the testing set to test your model, clearly calculating and displaying the error rate."
   ]
  },
  {
   "cell_type": "code",
   "execution_count": 10,
   "metadata": {},
   "outputs": [
    {
     "name": "stdout",
     "output_type": "stream",
     "text": [
      "75/75 [==============================] - 0s 361us/step\n",
      "\n",
      "\n",
      "Loss: 0.1420\tAccuracy: 0.9733\n"
     ]
    }
   ],
   "source": [
    "# Evaluate the model using the test data set.\n",
    "# model.evaluate compare answers\n",
    "# inputs_test = input data\n",
    "# output_test = target (label) data\n",
    "# verbose=1 means verbose mode 1 which is a progress bar\n",
    "# Verbosity mode: 0 = silent, 1 = progress bar, 2 = one line per epoch.\n",
    "loss, accuracy = model.evaluate(inputs_test, outputs_test, verbose=1)\n",
    "\n",
    "# Output the accuracy of the model.\n",
    "print(\"\\n\\nLoss: %6.4f\\tAccuracy: %6.4f\" % (loss, accuracy))\n"
   ]
  },
  {
   "cell_type": "markdown",
   "metadata": {},
   "source": [
    "## Prediction"
   ]
  },
  {
   "cell_type": "code",
   "execution_count": 11,
   "metadata": {},
   "outputs": [
    {
     "name": "stdout",
     "output_type": "stream",
     "text": [
      "Actual: [0 0 1]\tEstimated: [0 0 1]\n",
      "That means it's a virginica\n"
     ]
    }
   ],
   "source": [
    "# Predict the class of a single flower.\n",
    "# using model.predict\n",
    "# numpy.around to evenly round given data\n",
    "# numpy.expand_dims to expand the shape of an array\n",
    "prediction = np.around(model.predict(np.expand_dims(inputs_test[0], axis=0))).astype(np.int)[0]\n",
    "\n",
    "\n",
    "print(\"Actual: %s\\tEstimated: %s\" % (outputs_test[0].astype(np.int), prediction))\n",
    "print(\"That means it's a %s\" % outputs_vals[prediction.astype(np.bool)][0])"
   ]
  },
  {
   "cell_type": "code",
   "execution_count": 12,
   "metadata": {
    "collapsed": true
   },
   "outputs": [],
   "source": [
    "# Save the model to a file for later use. \n",
    "# faster to run next time\n",
    "model.save(\"iris_nn.h5\")\n",
    "# Load the model again with: model = load_model(\"iris_nn.h5\")"
   ]
  }
 ],
 "metadata": {
  "kernelspec": {
   "display_name": "Python 3",
   "language": "python",
   "name": "python3"
  },
  "language_info": {
   "codemirror_mode": {
    "name": "ipython",
    "version": 3
   },
   "file_extension": ".py",
   "mimetype": "text/x-python",
   "name": "python",
   "nbconvert_exporter": "python",
   "pygments_lexer": "ipython3",
   "version": "3.6.1"
  }
 },
 "nbformat": 4,
 "nbformat_minor": 2
}
