{
 "cells": [
  {
   "cell_type": "markdown",
   "metadata": {},
   "source": [
    "# Using Iris Data Set with TensorFlow"
   ]
  },
  {
   "cell_type": "markdown",
   "metadata": {},
   "source": [
    "Iris is perhaps the best known dataset which originated from a 1936 research paper by a British statistician and biologist Ronald Fisher. The dataset is often used for testing out machine learning algorithms and visualizations e.g. Scatter Plot. Each row of the table represents an iris flower, including its 3 types of species and measurements of its botanical parts, sepal and petal, in centimeters.\n",
    "#### References:\n",
    "- UCI Machine Learning Repository, https://archive.ics.uci.edu/ml/datasets/iris\n",
    "- Wikipedia, Iris flower Data Set, https://en.wikipedia.org/wiki/Iris_flower_data_set"
   ]
  },
  {
   "cell_type": "markdown",
   "metadata": {},
   "source": [
    "## 1. Use TensorFlow to create a model\n",
    "Use Tensorflow to create a model to predict the species of Iris from a flower’s sepal width, sepal length, petal width, and petal length."
   ]
  },
  {
   "cell_type": "code",
   "execution_count": 5,
   "metadata": {},
   "outputs": [],
   "source": [
    "#importing python libraries\n",
    "import numpy as np\n",
    "import csv\n",
    "import keras as kr\n",
    "\n",
    "#Load dataset from csv\n",
    "# Open and read through file\n",
    "iris = list(csv.reader(open('IRIS.csv')))[1:] # [1:] = ignore the first row and start from 2nd row \n",
    "\n",
    "# We need to separate the data into 2 arrays, inputs and outputs\n",
    "\n",
    "# inputs contains sepal length, sepal width, petal length, petal width converted as floats\n",
    "inputs = np.array(iris)[:,:4].astype(np.float) # [:,:4] = give us all the rows and the first 4 columns in rows\n",
    "\n",
    "# outputs contains the 3 species as strings: setosa, versicolor and virginica\n",
    "outputs = np.array(iris)[:,4] # [:,4] selects the last column which is the species\n",
    "\n",
    "# Converting the output strings to integers.\n",
    "outputs_vals, outputs_ints = np.unique(outputs, return_inverse=True)\n",
    "# output_vals represents the strings\n",
    "# output_ints represents the integers\n",
    "# The 1st string corresponds with the 1st interger in the array\n",
    "\n",
    "# Encoding the integers as binary categorical variables.\n",
    "# basically creating a binary matrix \n",
    "# E.g. if output_ints integer is 0 then encoded into 1,0,0 or if 1 then its 0,1,0 or if 2 then its 0,0,1\n",
    "outputs_cats = kr.utils.to_categorical(outputs_ints)\n",
    "# This means that if the output is:\n",
    "# (1,0,0) = setosa\n",
    "# (0,1,0) = versicolor\n",
    "# (0,0,1) = virginica\n",
    "\n",
    "# Creating model and a neural network\n",
    "# model is used to organise layers\n",
    "model = kr.models.Sequential() # using sequential model which is a linear stack of layers\n",
    "\n",
    "# stacking 4 layers. \n",
    "# Add an initial layer with 4 input nodes and a hidden layer with 16 nodes/neurons.\n",
    "model.add(kr.layers.Dense(16, input_shape=(4,)))\n",
    "# Applying the sigmoid activation function to that layer.\n",
    "model.add(kr.layers.Activation(\"sigmoid\"))\n",
    "# Adding another layer, connected to the layer with 16 nodes/neurons, containing 3 output nodes \n",
    "model.add(kr.layers.Dense(3))\n",
    "# Using the softmax activation function here to ensure the output values are in range of 0 and 1.\n",
    "model.add(kr.layers.Activation(\"softmax\"))\n"
   ]
  },
  {
   "cell_type": "markdown",
   "metadata": {
    "collapsed": true
   },
   "source": [
    "## 2. Split the data into training and testing\n",
    "Split the data set into a training set and a testing set. You should investigate the best way to do this, and list any online references used in your notebook. If you wish to, you can write some code to randomly separate the data on the fly."
   ]
  },
  {
   "cell_type": "code",
   "execution_count": null,
   "metadata": {
    "collapsed": true
   },
   "outputs": [],
   "source": [
    "# Split the input and output data sets into training and test subsets\n",
    "inds = np.random.permutation(len(inputs)) # Shuffling the array.. randomly change order of the indicies\n",
    "\n",
    "#Split the array into 2. first batch of indicies go into train and 2nd batch go into test\n",
    "train_inds, test_inds = np.array_split(inds, 2)\n",
    "\n",
    "# Organising the data into training and testing groups.\n",
    "# inputs_train takes in the shuffled train_inds\n",
    "# outputs_train takes in the shuffled train_inds in the encoded binary matrix array\n",
    "inputs_train, outputs_train = inputs[train_inds], outputs_cats[train_inds]\n",
    "# inputs_test takes in the shuffled test_inds\n",
    "# outputs_test takes in the shuffled test_inds in the encoded binary matrix array\n",
    "inputs_test,  outputs_test  = inputs[test_inds],  outputs_cats[test_inds]\n",
    "\n"
   ]
  },
  {
   "cell_type": "markdown",
   "metadata": {},
   "source": [
    "## 3. Train the model\n",
    "Use the testing set to train your model."
   ]
  },
  {
   "cell_type": "markdown",
   "metadata": {},
   "source": [
    "## 4. Test the model\n",
    "Use the testing set to test your model, clearly calculating and displaying the error rate."
   ]
  }
 ],
 "metadata": {
  "kernelspec": {
   "display_name": "Python 3",
   "language": "python",
   "name": "python3"
  },
  "language_info": {
   "codemirror_mode": {
    "name": "ipython",
    "version": 3
   },
   "file_extension": ".py",
   "mimetype": "text/x-python",
   "name": "python",
   "nbconvert_exporter": "python",
   "pygments_lexer": "ipython3",
   "version": "3.6.1"
  }
 },
 "nbformat": 4,
 "nbformat_minor": 2
}
